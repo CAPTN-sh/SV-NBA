{
 "cells": [
  {
   "cell_type": "markdown",
   "metadata": {},
   "source": [
    "# Pipeline A"
   ]
  },
  {
   "cell_type": "code",
   "execution_count": null,
   "metadata": {},
   "outputs": [],
   "source": [
    "##> Automated module reload\n",
    "%load_ext autoreload\n",
    "%autoreload 2 #"
   ]
  },
  {
   "cell_type": "code",
   "execution_count": 38,
   "metadata": {},
   "outputs": [],
   "source": [
    "import os\n",
    "import sys\n",
    "sys.path.append(\"../\")\n",
    "\n",
    "import datetime\n",
    "from datetime import datetime, timedelta, date\n",
    "\n",
    "from pandas import read_csv, to_datetime\n",
    "from geopandas import GeoDataFrame, read_file\n",
    "import pandas as pd\n",
    "import numpy as np\n",
    "import movingpandas as mpd\n",
    "from shapely.geometry import Point\n",
    "\n",
    "from dtaidistance import dtw_ndim\n",
    "from dtaidistance import dtw\n",
    "\n",
    "from sklearn.cluster import HDBSCAN, KMeans\n",
    "import matplotlib.pyplot as plt\n",
    "\n",
    "import hvplot\n",
    "import hvplot.pandas\n",
    "import holoviews as hv\n",
    "from holoviews import opts, dim;\n",
    "import matplotlib.pyplot as plt\n",
    "from holoviews.element.tiles import EsriImagery\n",
    "\n",
    "opts.defaults(opts.Overlay(active_tools=['wheel_zoom'], frame_width=500, frame_height=400))\n",
    "hvplot_defaults = {'tiles':'ESRI', 'cmap':'Viridis', 'colorbar':True}"
   ]
  },
  {
   "cell_type": "code",
   "execution_count": 39,
   "metadata": {},
   "outputs": [],
   "source": [
    "from src.macros.macros1 import *"
   ]
  },
  {
   "cell_type": "code",
   "execution_count": 40,
   "metadata": {},
   "outputs": [],
   "source": [
    "from src.preprocess.load import MMSIperDayFeatures, TYPES_TO_INT, get_data_for_time_frame, query_by_type"
   ]
  },
  {
   "cell_type": "markdown",
   "metadata": {},
   "source": [
    "## 1. LOAD the data"
   ]
  },
  {
   "cell_type": "code",
   "execution_count": 41,
   "metadata": {},
   "outputs": [],
   "source": [
    "START_DATE = date(year=2022, month=7, day=5)\n",
    "END_DATE = date(year=2022, month=7, day=5)"
   ]
  },
  {
   "cell_type": "code",
   "execution_count": 42,
   "metadata": {},
   "outputs": [],
   "source": [
    "src = r\"../assets/csv/\"\n",
    "data = get_data_for_time_frame(src, START_DATE, END_DATE)"
   ]
  },
  {
   "cell_type": "code",
   "execution_count": 43,
   "metadata": {},
   "outputs": [
    {
     "data": {
      "text/plain": [
       "57"
      ]
     },
     "execution_count": 43,
     "metadata": {},
     "output_type": "execute_result"
    }
   ],
   "source": [
    "len(data)"
   ]
  },
  {
   "cell_type": "markdown",
   "metadata": {},
   "source": [
    "data: list\n",
    "+ mmsi: int\n",
    "+ day: datetime.date\n",
    "+ static: DataFrame\n",
    "+ own: DataFrame\n",
    "+ s2s: DataFrame"
   ]
  },
  {
   "cell_type": "markdown",
   "metadata": {},
   "source": [
    "## 2. select by TYPE"
   ]
  },
  {
   "cell_type": "code",
   "execution_count": 44,
   "metadata": {},
   "outputs": [
    {
     "name": "stdout",
     "output_type": "stream",
     "text": [
      "Number of SAILING_FAMILY ships found: 17 ships\n"
     ]
    }
   ],
   "source": [
    "selected_type = \"SAILING_FAMILY\"\n",
    "data_selected = query_by_type(data, selected_type)\n",
    "print(f\"Number of {selected_type} ships found: {len(data_selected)} ships\")"
   ]
  },
  {
   "cell_type": "markdown",
   "metadata": {},
   "source": [
    "## 3. prepare DATA"
   ]
  },
  {
   "cell_type": "markdown",
   "metadata": {},
   "source": [
    "- Update the trajectory id\n",
    "- feature set (subset of own/s2s)\n",
    "- prepare the data"
   ]
  },
  {
   "cell_type": "code",
   "execution_count": 45,
   "metadata": {},
   "outputs": [],
   "source": [
    "##> Update the traj_id of each of the data.own in the structure of f\"{mmsi}.{day}.{traj_id}\" <##\n",
    "\n",
    "#> Loop over the data objects list\n",
    "for ft in data_selected:\n",
    "    mmsi = ft.mmsi\n",
    "    new_col = ft.own[\"mmsi\"].astype(str) + \".\" + ft.own[\"traj_id\"].astype(str)\n",
    "    ft.own[\"traj_id\"] = new_col"
   ]
  },
  {
   "cell_type": "code",
   "execution_count": 46,
   "metadata": {},
   "outputs": [],
   "source": [
    "own_feature_list = [d.own for d in data] # list of df"
   ]
  },
  {
   "cell_type": "markdown",
   "metadata": {},
   "source": [
    "+ Store in TrajectoryCollection"
   ]
  },
  {
   "cell_type": "code",
   "execution_count": 47,
   "metadata": {},
   "outputs": [],
   "source": [
    "traj_list = []\n",
    "for ft in data:\n",
    "    df = ft.own\n",
    "    geometry = [Point(xy) for xy in zip(df['inter_lon'], df['inter_lat'])] # ! lon->lat and not lat->lon\n",
    "    gdf = GeoDataFrame(df, crs=\"EPSG:4326\", geometry=geometry)\n",
    "    traj_list.append(mpd.Trajectory(gdf, traj_id='traj_id', obj_id='mmsi' ,t='t'))"
   ]
  },
  {
   "cell_type": "code",
   "execution_count": 48,
   "metadata": {},
   "outputs": [],
   "source": [
    "tc = mpd.TrajectoryCollection(traj_list, traj_id_col='traj_id', t='t', crs='epsg:4326')"
   ]
  },
  {
   "cell_type": "code",
   "execution_count": 49,
   "metadata": {},
   "outputs": [
    {
     "data": {
      "text/plain": [
       "True"
      ]
     },
     "execution_count": 49,
     "metadata": {},
     "output_type": "execute_result"
    }
   ],
   "source": [
    "##> Check trajectories validity <##\n",
    "\n",
    "valid_list = []\n",
    "for traj in tc.trajectories:\n",
    "    valid_list.append(traj.is_valid())\n",
    "    # print(traj.crs)\n",
    "all(valid_list)"
   ]
  },
  {
   "cell_type": "markdown",
   "metadata": {},
   "source": [
    "+ Prepare the dataframe of features to cluster in ``concatenated_df``"
   ]
  },
  {
   "cell_type": "code",
   "execution_count": 50,
   "metadata": {},
   "outputs": [],
   "source": [
    "own_df_list = []\n",
    "for traj in tc.trajectories:\n",
    "    # traj.df['datetime'] = traj.df.index\n",
    "    own_df_list.append(traj.df)\n",
    "\n",
    "# Concatenate the DataFrames into one DataFrame\n",
    "concatenated_df = pd.concat([df.reset_index() for df in own_df_list], ignore_index=True)\n",
    "\n",
    "# # Set the original index as a new column with the same index name\n",
    "# concatenated_df['index_name'] = [df.index.name for df in df_list]\n",
    "\n",
    "# Create a new index in the order of concatenation\n",
    "concatenated_df.index = range(len(concatenated_df))\n",
    "\n",
    "# Optionally, set a new index name (e.g., 'new_index')\n",
    "concatenated_df.index.name = 'new_index'"
   ]
  },
  {
   "cell_type": "code",
   "execution_count": 51,
   "metadata": {},
   "outputs": [
    {
     "name": "stderr",
     "output_type": "stream",
     "text": [
      "/home/lha/miniconda3/envs/captnAIS/lib/python3.11/site-packages/numpy/core/_methods.py:49: RuntimeWarning: overflow encountered in reduce\n",
      "  return umr_sum(a, axis, dtype, out, keepdims, initial, where)\n",
      "/home/lha/miniconda3/envs/captnAIS/lib/python3.11/site-packages/pandas/core/nanops.py:1010: RuntimeWarning: overflow encountered in square\n",
      "  sqr = _ensure_numeric((avg - values) ** 2)\n",
      "/home/lha/miniconda3/envs/captnAIS/lib/python3.11/site-packages/numpy/core/_methods.py:49: RuntimeWarning: overflow encountered in reduce\n",
      "  return umr_sum(a, axis, dtype, out, keepdims, initial, where)\n",
      "/home/lha/miniconda3/envs/captnAIS/lib/python3.11/site-packages/numpy/core/_methods.py:49: RuntimeWarning: overflow encountered in reduce\n",
      "  return umr_sum(a, axis, dtype, out, keepdims, initial, where)\n",
      "/home/lha/miniconda3/envs/captnAIS/lib/python3.11/site-packages/numpy/core/_methods.py:49: RuntimeWarning: overflow encountered in reduce\n",
      "  return umr_sum(a, axis, dtype, out, keepdims, initial, where)\n"
     ]
    },
    {
     "data": {
      "text/html": [
       "<div>\n",
       "<style scoped>\n",
       "    .dataframe tbody tr th:only-of-type {\n",
       "        vertical-align: middle;\n",
       "    }\n",
       "\n",
       "    .dataframe tbody tr th {\n",
       "        vertical-align: top;\n",
       "    }\n",
       "\n",
       "    .dataframe thead th {\n",
       "        text-align: right;\n",
       "    }\n",
       "</style>\n",
       "<table border=\"1\" class=\"dataframe\">\n",
       "  <thead>\n",
       "    <tr style=\"text-align: right;\">\n",
       "      <th></th>\n",
       "      <th>t</th>\n",
       "      <th>epoch</th>\n",
       "      <th>status</th>\n",
       "      <th>heading</th>\n",
       "      <th>course</th>\n",
       "      <th>speed</th>\n",
       "      <th>turn</th>\n",
       "      <th>maneuver</th>\n",
       "      <th>roa</th>\n",
       "      <th>inter_speed</th>\n",
       "      <th>inter_turn</th>\n",
       "      <th>mmsi</th>\n",
       "      <th>calc_speed</th>\n",
       "      <th>direction</th>\n",
       "      <th>angular_difference</th>\n",
       "      <th>calc_acc</th>\n",
       "      <th>inter_lat</th>\n",
       "      <th>inter_lon</th>\n",
       "      <th>in_waterways</th>\n",
       "      <th>distance_shore</th>\n",
       "    </tr>\n",
       "  </thead>\n",
       "  <tbody>\n",
       "    <tr>\n",
       "      <th>count</th>\n",
       "      <td>33414</td>\n",
       "      <td>3.341400e+04</td>\n",
       "      <td>33414.000000</td>\n",
       "      <td>33414.0</td>\n",
       "      <td>33414.00000</td>\n",
       "      <td>3.341400e+04</td>\n",
       "      <td>33414.0</td>\n",
       "      <td>33414.0</td>\n",
       "      <td>33414.000000</td>\n",
       "      <td>33414.000000</td>\n",
       "      <td>33414.000000</td>\n",
       "      <td>3.341400e+04</td>\n",
       "      <td>33414.000000</td>\n",
       "      <td>33414.000000</td>\n",
       "      <td>33414.000000</td>\n",
       "      <td>33414.000000</td>\n",
       "      <td>33414.000000</td>\n",
       "      <td>33414.000000</td>\n",
       "      <td>33414.000000</td>\n",
       "      <td>33414.000000</td>\n",
       "    </tr>\n",
       "    <tr>\n",
       "      <th>mean</th>\n",
       "      <td>2022-07-05 18:10:36.920991232</td>\n",
       "      <td>1.657045e+09</td>\n",
       "      <td>5.391273</td>\n",
       "      <td>inf</td>\n",
       "      <td>inf</td>\n",
       "      <td>inf</td>\n",
       "      <td>-inf</td>\n",
       "      <td>0.0</td>\n",
       "      <td>0.151463</td>\n",
       "      <td>5.819218</td>\n",
       "      <td>-1.378730</td>\n",
       "      <td>2.347791e+08</td>\n",
       "      <td>7.218091</td>\n",
       "      <td>162.608554</td>\n",
       "      <td>5.124914</td>\n",
       "      <td>-1.871856</td>\n",
       "      <td>54.381320</td>\n",
       "      <td>10.179579</td>\n",
       "      <td>0.448465</td>\n",
       "      <td>0.751139</td>\n",
       "    </tr>\n",
       "    <tr>\n",
       "      <th>min</th>\n",
       "      <td>2022-07-05 15:00:06</td>\n",
       "      <td>1.657033e+09</td>\n",
       "      <td>0.000000</td>\n",
       "      <td>0.0</td>\n",
       "      <td>0.00000</td>\n",
       "      <td>9.997559e-02</td>\n",
       "      <td>-128.0</td>\n",
       "      <td>0.0</td>\n",
       "      <td>0.000000</td>\n",
       "      <td>0.099976</td>\n",
       "      <td>-128.000000</td>\n",
       "      <td>2.095310e+08</td>\n",
       "      <td>0.000000</td>\n",
       "      <td>0.000000</td>\n",
       "      <td>0.000000</td>\n",
       "      <td>-14878.792492</td>\n",
       "      <td>54.315067</td>\n",
       "      <td>10.134866</td>\n",
       "      <td>0.000000</td>\n",
       "      <td>0.000000</td>\n",
       "    </tr>\n",
       "    <tr>\n",
       "      <th>25%</th>\n",
       "      <td>2022-07-05 16:20:12</td>\n",
       "      <td>1.657038e+09</td>\n",
       "      <td>0.000000</td>\n",
       "      <td>221.0</td>\n",
       "      <td>38.90625</td>\n",
       "      <td>2.400391e+00</td>\n",
       "      <td>-128.0</td>\n",
       "      <td>0.0</td>\n",
       "      <td>0.000000</td>\n",
       "      <td>2.400391</td>\n",
       "      <td>-128.000000</td>\n",
       "      <td>2.113999e+08</td>\n",
       "      <td>2.833588</td>\n",
       "      <td>57.804113</td>\n",
       "      <td>0.278507</td>\n",
       "      <td>-82.298998</td>\n",
       "      <td>54.355096</td>\n",
       "      <td>10.157755</td>\n",
       "      <td>0.000000</td>\n",
       "      <td>0.218583</td>\n",
       "    </tr>\n",
       "    <tr>\n",
       "      <th>50%</th>\n",
       "      <td>2022-07-05 17:39:36</td>\n",
       "      <td>1.657043e+09</td>\n",
       "      <td>0.000000</td>\n",
       "      <td>511.0</td>\n",
       "      <td>181.87500</td>\n",
       "      <td>5.800781e+00</td>\n",
       "      <td>0.0</td>\n",
       "      <td>0.0</td>\n",
       "      <td>0.000000</td>\n",
       "      <td>5.757655</td>\n",
       "      <td>0.000000</td>\n",
       "      <td>2.118481e+08</td>\n",
       "      <td>7.024570</td>\n",
       "      <td>180.000000</td>\n",
       "      <td>0.857965</td>\n",
       "      <td>0.000000</td>\n",
       "      <td>54.375301</td>\n",
       "      <td>10.178608</td>\n",
       "      <td>0.000000</td>\n",
       "      <td>0.609703</td>\n",
       "    </tr>\n",
       "    <tr>\n",
       "      <th>75%</th>\n",
       "      <td>2022-07-05 19:34:24</td>\n",
       "      <td>1.657050e+09</td>\n",
       "      <td>15.000000</td>\n",
       "      <td>511.0</td>\n",
       "      <td>227.46875</td>\n",
       "      <td>8.296875e+00</td>\n",
       "      <td>128.0</td>\n",
       "      <td>0.0</td>\n",
       "      <td>0.000000</td>\n",
       "      <td>8.296875</td>\n",
       "      <td>128.000000</td>\n",
       "      <td>2.460840e+08</td>\n",
       "      <td>10.367142</td>\n",
       "      <td>239.363714</td>\n",
       "      <td>2.495733</td>\n",
       "      <td>77.495793</td>\n",
       "      <td>54.413741</td>\n",
       "      <td>10.198820</td>\n",
       "      <td>1.000000</td>\n",
       "      <td>1.028483</td>\n",
       "    </tr>\n",
       "    <tr>\n",
       "      <th>max</th>\n",
       "      <td>2022-07-05 23:59:54</td>\n",
       "      <td>1.657066e+09</td>\n",
       "      <td>15.000000</td>\n",
       "      <td>511.0</td>\n",
       "      <td>360.00000</td>\n",
       "      <td>1.023125e+02</td>\n",
       "      <td>128.0</td>\n",
       "      <td>0.0</td>\n",
       "      <td>4.000000</td>\n",
       "      <td>102.312500</td>\n",
       "      <td>128.000000</td>\n",
       "      <td>5.111007e+08</td>\n",
       "      <td>60.874779</td>\n",
       "      <td>359.898580</td>\n",
       "      <td>180.000000</td>\n",
       "      <td>30454.401803</td>\n",
       "      <td>54.452809</td>\n",
       "      <td>10.294241</td>\n",
       "      <td>1.000000</td>\n",
       "      <td>3.636258</td>\n",
       "    </tr>\n",
       "    <tr>\n",
       "      <th>std</th>\n",
       "      <td>NaN</td>\n",
       "      <td>8.250257e+03</td>\n",
       "      <td>6.720893</td>\n",
       "      <td>inf</td>\n",
       "      <td>106.75000</td>\n",
       "      <td>4.132812e+00</td>\n",
       "      <td>107.5</td>\n",
       "      <td>0.0</td>\n",
       "      <td>0.387472</td>\n",
       "      <td>4.124752</td>\n",
       "      <td>106.700326</td>\n",
       "      <td>4.513044e+07</td>\n",
       "      <td>5.444598</td>\n",
       "      <td>103.720853</td>\n",
       "      <td>17.926840</td>\n",
       "      <td>717.544585</td>\n",
       "      <td>0.036838</td>\n",
       "      <td>0.025361</td>\n",
       "      <td>0.497344</td>\n",
       "      <td>0.662401</td>\n",
       "    </tr>\n",
       "  </tbody>\n",
       "</table>\n",
       "</div>"
      ],
      "text/plain": [
       "                                   t         epoch        status  heading  \\\n",
       "count                          33414  3.341400e+04  33414.000000  33414.0   \n",
       "mean   2022-07-05 18:10:36.920991232  1.657045e+09      5.391273      inf   \n",
       "min              2022-07-05 15:00:06  1.657033e+09      0.000000      0.0   \n",
       "25%              2022-07-05 16:20:12  1.657038e+09      0.000000    221.0   \n",
       "50%              2022-07-05 17:39:36  1.657043e+09      0.000000    511.0   \n",
       "75%              2022-07-05 19:34:24  1.657050e+09     15.000000    511.0   \n",
       "max              2022-07-05 23:59:54  1.657066e+09     15.000000    511.0   \n",
       "std                              NaN  8.250257e+03      6.720893      inf   \n",
       "\n",
       "            course         speed     turn  maneuver           roa  \\\n",
       "count  33414.00000  3.341400e+04  33414.0   33414.0  33414.000000   \n",
       "mean           inf           inf     -inf       0.0      0.151463   \n",
       "min        0.00000  9.997559e-02   -128.0       0.0      0.000000   \n",
       "25%       38.90625  2.400391e+00   -128.0       0.0      0.000000   \n",
       "50%      181.87500  5.800781e+00      0.0       0.0      0.000000   \n",
       "75%      227.46875  8.296875e+00    128.0       0.0      0.000000   \n",
       "max      360.00000  1.023125e+02    128.0       0.0      4.000000   \n",
       "std      106.75000  4.132812e+00    107.5       0.0      0.387472   \n",
       "\n",
       "        inter_speed    inter_turn          mmsi    calc_speed     direction  \\\n",
       "count  33414.000000  33414.000000  3.341400e+04  33414.000000  33414.000000   \n",
       "mean       5.819218     -1.378730  2.347791e+08      7.218091    162.608554   \n",
       "min        0.099976   -128.000000  2.095310e+08      0.000000      0.000000   \n",
       "25%        2.400391   -128.000000  2.113999e+08      2.833588     57.804113   \n",
       "50%        5.757655      0.000000  2.118481e+08      7.024570    180.000000   \n",
       "75%        8.296875    128.000000  2.460840e+08     10.367142    239.363714   \n",
       "max      102.312500    128.000000  5.111007e+08     60.874779    359.898580   \n",
       "std        4.124752    106.700326  4.513044e+07      5.444598    103.720853   \n",
       "\n",
       "       angular_difference      calc_acc     inter_lat     inter_lon  \\\n",
       "count        33414.000000  33414.000000  33414.000000  33414.000000   \n",
       "mean             5.124914     -1.871856     54.381320     10.179579   \n",
       "min              0.000000 -14878.792492     54.315067     10.134866   \n",
       "25%              0.278507    -82.298998     54.355096     10.157755   \n",
       "50%              0.857965      0.000000     54.375301     10.178608   \n",
       "75%              2.495733     77.495793     54.413741     10.198820   \n",
       "max            180.000000  30454.401803     54.452809     10.294241   \n",
       "std             17.926840    717.544585      0.036838      0.025361   \n",
       "\n",
       "       in_waterways  distance_shore  \n",
       "count  33414.000000    33414.000000  \n",
       "mean       0.448465        0.751139  \n",
       "min        0.000000        0.000000  \n",
       "25%        0.000000        0.218583  \n",
       "50%        0.000000        0.609703  \n",
       "75%        1.000000        1.028483  \n",
       "max        1.000000        3.636258  \n",
       "std        0.497344        0.662401  "
      ]
     },
     "execution_count": 51,
     "metadata": {},
     "output_type": "execute_result"
    }
   ],
   "source": [
    "concatenated_df.describe()"
   ]
  },
  {
   "cell_type": "code",
   "execution_count": 52,
   "metadata": {},
   "outputs": [],
   "source": [
    "all_features_cols = ['t', 'mmsi', 'traj_id', 'epoch', 'geometry', \n",
    "                 'calc_speed', 'direction', 'inter_turn', 'roa', 'angular_difference', 'calc_acc', 'inter_lat', 'inter_lon', 'in_waterways', 'distance_shore']\n",
    "\n",
    "# choose subset to cluster in\n",
    "features_cols = ['t', 'mmsi', 'traj_id', 'epoch', 'geometry', \n",
    "                 'calc_speed', 'direction', 'distance_shore']"
   ]
  },
  {
   "cell_type": "code",
   "execution_count": 53,
   "metadata": {},
   "outputs": [],
   "source": [
    "features_subset_cols =features_cols[5::]\n",
    "X_full = concatenated_df.loc[:, features_cols]\n",
    "X = concatenated_df.loc[:, features_subset_cols]"
   ]
  },
  {
   "cell_type": "markdown",
   "metadata": {},
   "source": [
    "## Cluster"
   ]
  },
  {
   "cell_type": "markdown",
   "metadata": {},
   "source": [
    "### HDBSCAN Clustering"
   ]
  },
  {
   "cell_type": "code",
   "execution_count": 54,
   "metadata": {},
   "outputs": [],
   "source": [
    "metric = 'cityblock' # List of metrics here: https://bit.ly/45S7ESS"
   ]
  },
  {
   "cell_type": "code",
   "execution_count": 55,
   "metadata": {},
   "outputs": [],
   "source": [
    "# Perform HDBSCAN clustering on the features\n",
    "clusterer_manhattan = HDBSCAN(min_cluster_size=100, cluster_selection_epsilon=5, n_jobs=-1, metric=metric)\n",
    "X['cluster_manhattan'] = clusterer_manhattan.fit_predict(X)"
   ]
  },
  {
   "cell_type": "code",
   "execution_count": 56,
   "metadata": {},
   "outputs": [
    {
     "data": {
      "text/plain": [
       "4"
      ]
     },
     "execution_count": 56,
     "metadata": {},
     "output_type": "execute_result"
    }
   ],
   "source": [
    "len(X['cluster_manhattan'].unique())"
   ]
  },
  {
   "cell_type": "code",
   "execution_count": 57,
   "metadata": {},
   "outputs": [
    {
     "name": "stdout",
     "output_type": "stream",
     "text": [
      "   cluster_manhattan  min_speed  max_speed  mean_speed  median_speed  \\\n",
      "0                 -1   0.079528  60.874779   14.244897     13.535769   \n",
      "1                  0   0.035499  20.505140    6.494036      6.532186   \n",
      "2                  1   0.050441   8.386916    4.204765      6.025538   \n",
      "3                  2   0.000000  18.713305    6.850090      7.221622   \n",
      "\n",
      "   std_speed  min_distance_shore  max_distance_shore  mean_distance_shore  \\\n",
      "0   9.781785            0.000234            3.636258             0.965530   \n",
      "1   4.326685            0.000000            3.596600             0.682714   \n",
      "2   3.113539            0.004412            1.629033             0.576809   \n",
      "3   4.528777            0.000311            3.277963             0.808012   \n",
      "\n",
      "   median_distance_shore  std_distance_shore  \n",
      "0               0.765529            0.810881  \n",
      "1               0.547883            0.611992  \n",
      "2               0.792498            0.385324  \n",
      "3               0.638090            0.686384  \n"
     ]
    }
   ],
   "source": [
    "# Calculate summary statistics for each cluster\n",
    "cluster_properties = X.groupby('cluster_manhattan').agg(\n",
    "                        # Speed\n",
    "                        min_speed=pd.NamedAgg(column='calc_speed', aggfunc='min'),\n",
    "                        max_speed=pd.NamedAgg(column='calc_speed', aggfunc='max'),\n",
    "                        mean_speed=pd.NamedAgg(column='calc_speed', aggfunc='mean'),\n",
    "                        median_speed=pd.NamedAgg(column='calc_speed', aggfunc='median'),\n",
    "                        std_speed=pd.NamedAgg(column='calc_speed', aggfunc='std'),\n",
    "                        \n",
    "                        # # direction\n",
    "                        # min_direction=pd.NamedAgg(column='direction', aggfunc='min'),\n",
    "                        # max_direction=pd.NamedAgg(column='direction', aggfunc='max'),\n",
    "                        # mean_direction=pd.NamedAgg(column='direction', aggfunc='mean'),\n",
    "                        # median_direction=pd.NamedAgg(column='direction', aggfunc='median'),\n",
    "                        # std_direction=pd.NamedAgg(column='direction', aggfunc='std'),\n",
    "                        \n",
    "                        # # inter_turn\n",
    "                        # min_inter_turn=pd.NamedAgg(column='inter_turn', aggfunc='min'),\n",
    "                        # max_inter_turn=pd.NamedAgg(column='inter_turn', aggfunc='max'),\n",
    "                        # mean_inter_turn=pd.NamedAgg(column='inter_turn', aggfunc='mean'),\n",
    "                        # median_inter_turn=pd.NamedAgg(column='inter_turn', aggfunc='median'),\n",
    "                        # std_inter_turn=pd.NamedAgg(column='inter_turn', aggfunc='std'),\n",
    "                        \n",
    "                        # # roa\n",
    "                        # min_roa=pd.NamedAgg(column='roa', aggfunc='min'),\n",
    "                        # max_roa=pd.NamedAgg(column='roa', aggfunc='max'),\n",
    "                        # mean_roa=pd.NamedAgg(column='roa', aggfunc='mean'),\n",
    "                        # median_roa=pd.NamedAgg(column='roa', aggfunc='median'),\n",
    "                        # std_roa=pd.NamedAgg(column='roa', aggfunc='std'),\n",
    "                        \n",
    "                        # # angular_difference\n",
    "                        # min_angular_difference=pd.NamedAgg(column='angular_difference', aggfunc='min'),\n",
    "                        # max_angular_difference=pd.NamedAgg(column='angular_difference', aggfunc='max'),\n",
    "                        # mean_angular_difference=pd.NamedAgg(column='angular_difference', aggfunc='mean'),\n",
    "                        # median_angular_difference=pd.NamedAgg(column='angular_difference', aggfunc='median'),\n",
    "                        # std_angular_difference=pd.NamedAgg(column='angular_difference', aggfunc='std'),\n",
    "                        \n",
    "                        # # calc_acc\n",
    "                        # min_calc_acc=pd.NamedAgg(column='calc_acc', aggfunc='min'),\n",
    "                        # max_calc_acc=pd.NamedAgg(column='calc_acc', aggfunc='max'),\n",
    "                        # mean_calc_acc=pd.NamedAgg(column='calc_acc', aggfunc='mean'),\n",
    "                        # median_calc_acc=pd.NamedAgg(column='calc_acc', aggfunc='median'),\n",
    "                        # std_calc_acc=pd.NamedAgg(column='calc_acc', aggfunc='std'),\n",
    "                        \n",
    "                        # # in_waterways\n",
    "                        # min_in_waterways=pd.NamedAgg(column='in_waterways', aggfunc='min'),\n",
    "                        # max_in_waterways=pd.NamedAgg(column='in_waterways', aggfunc='max'),\n",
    "                        # mean_in_waterways=pd.NamedAgg(column='in_waterways', aggfunc='mean'),\n",
    "                        # median_in_waterways=pd.NamedAgg(column='in_waterways', aggfunc='median'),\n",
    "                        # std_in_waterways=pd.NamedAgg(column='in_waterways', aggfunc='std'),\n",
    "                        \n",
    "                        # distance_shore\n",
    "                        min_distance_shore=pd.NamedAgg(column='distance_shore', aggfunc='min'),\n",
    "                        max_distance_shore=pd.NamedAgg(column='distance_shore', aggfunc='max'),\n",
    "                        mean_distance_shore=pd.NamedAgg(column='distance_shore', aggfunc='mean'),\n",
    "                        median_distance_shore=pd.NamedAgg(column='distance_shore', aggfunc='median'),\n",
    "                        std_distance_shore=pd.NamedAgg(column='distance_shore', aggfunc='std'),\n",
    "    # Add more properties as needed\n",
    ").reset_index()\n",
    "\n",
    "# Display cluster properties\n",
    "print(cluster_properties)\n"
   ]
  },
  {
   "cell_type": "markdown",
   "metadata": {},
   "source": [
    "+ Stack the clusters back to the ``TrajectoryCollection``"
   ]
  },
  {
   "cell_type": "code",
   "execution_count": 58,
   "metadata": {},
   "outputs": [],
   "source": [
    "##> Add the new clustered column to the trajectories\n",
    "start_index = 0\n",
    "for traj in tc.trajectories:\n",
    "    stop_index = start_index + len(traj.df)\n",
    "    # print(len(traj.df))\n",
    "    # print(start_index, stop_index)\n",
    "    traj.df['cluster_manhattan'] = X.iloc[start_index:stop_index]['cluster_manhattan'].values\n",
    "    start_index = stop_index"
   ]
  },
  {
   "cell_type": "markdown",
   "metadata": {},
   "source": [
    "+ Plot"
   ]
  },
  {
   "cell_type": "code",
   "execution_count": 59,
   "metadata": {},
   "outputs": [
    {
     "name": "stderr",
     "output_type": "stream",
     "text": [
      "WARNING:bokeh.core.validation.check:W-1005 (FIXED_SIZING_MODE): 'fixed' sizing mode requires width and height to be set: figure(id='p1084', ...)\n"
     ]
    }
   ],
   "source": [
    "# Create a HoloViews plot of the clusters\n",
    "tc_all_manhattan_cluster_plot = tc.to_line_gdf().hvplot(geo=True,\n",
    "                                                        tiles='ESRI',\n",
    "                                                        title='tc',\n",
    "                                                        color='cluster_manhattan',\n",
    "                                                        # colorbar=True,\n",
    "                                                        cmap='Viridis',\n",
    "                                                        line_width=2,\n",
    "                                                        alpha=0.6,\n",
    "                                                        frame_width=700,\n",
    "                                                        frame_height=500,\n",
    "                                                        legend=True)\n",
    "hvplot.save(tc_all_manhattan_cluster_plot, \n",
    "            'tc_cityblock_cluster_plot.html', \n",
    "            fmt='html')"
   ]
  },
  {
   "cell_type": "markdown",
   "metadata": {},
   "source": [
    "### KMeans"
   ]
  },
  {
   "cell_type": "code",
   "execution_count": 60,
   "metadata": {},
   "outputs": [],
   "source": [
    "metric = 'cityblock' # List of metrics here: https://bit.ly/45S7ESS"
   ]
  },
  {
   "cell_type": "code",
   "execution_count": 61,
   "metadata": {},
   "outputs": [],
   "source": [
    "clusterer_kmeans = KMeans(n_clusters=5, random_state=0, n_init=\"auto\")\n",
    "X['cluster_kmeans'] = clusterer_kmeans.fit_predict(X)"
   ]
  },
  {
   "cell_type": "code",
   "execution_count": 62,
   "metadata": {},
   "outputs": [
    {
     "name": "stdout",
     "output_type": "stream",
     "text": [
      "[3 0 4 2 1]\n"
     ]
    }
   ],
   "source": [
    "print(X['cluster_kmeans'].unique())"
   ]
  },
  {
   "cell_type": "code",
   "execution_count": 63,
   "metadata": {},
   "outputs": [
    {
     "name": "stdout",
     "output_type": "stream",
     "text": [
      "   cluster_kmeans  min_speed  max_speed  mean_speed  median_speed  std_speed  \\\n",
      "0               0   0.050442  54.842949    8.720161      7.785206   5.520396   \n",
      "1               1   0.000000  56.272063    7.523711      7.494838   5.650112   \n",
      "2               2   0.035499  22.428528    6.342586      6.766302   3.558747   \n",
      "3               3   0.050442  21.498108    6.101312      4.734058   5.313123   \n",
      "4               4   0.035834  60.874779    6.093738      4.779996   5.824306   \n",
      "\n",
      "   min_distance_shore  max_distance_shore  mean_distance_shore  \\\n",
      "0            0.000000            3.636258             0.819485   \n",
      "1            0.000311            3.316839             0.829825   \n",
      "2            0.000078            2.589466             0.808610   \n",
      "3            0.000201            2.476692             0.613708   \n",
      "4            0.000078            3.020580             0.501994   \n",
      "\n",
      "   median_distance_shore  std_distance_shore  min_direction_shore  \\\n",
      "0               0.678005            0.708200           188.393624   \n",
      "1               0.648422            0.706955             0.000000   \n",
      "2               0.782577            0.512478           236.908526   \n",
      "3               0.420459            0.607007           295.869918   \n",
      "4               0.293372            0.563519           106.902944   \n",
      "\n",
      "   max_direction_shore  mean_direction_shore  median_direction_shore  \\\n",
      "0           237.648057            216.031862              218.005582   \n",
      "1           106.843260             48.457954               48.376621   \n",
      "2           295.829774            258.667066              255.244462   \n",
      "3           359.898580            333.305084              336.701014   \n",
      "4           190.872341            165.410063              172.906957   \n",
      "\n",
      "   std_direction_shore  \n",
      "0            12.319959  \n",
      "1            26.065761  \n",
      "2            15.995723  \n",
      "3            19.416163  \n",
      "4            21.083004  \n"
     ]
    }
   ],
   "source": [
    "# Calculate summary statistics for each cluster\n",
    "cluster_properties = X.groupby('cluster_kmeans').agg(\n",
    "                        # Speed\n",
    "                        min_speed=pd.NamedAgg(column='calc_speed', aggfunc='min'),\n",
    "                        max_speed=pd.NamedAgg(column='calc_speed', aggfunc='max'),\n",
    "                        mean_speed=pd.NamedAgg(column='calc_speed', aggfunc='mean'),\n",
    "                        median_speed=pd.NamedAgg(column='calc_speed', aggfunc='median'),\n",
    "                        std_speed=pd.NamedAgg(column='calc_speed', aggfunc='std'),\n",
    "                        \n",
    "                        # distance_shore\n",
    "                        min_distance_shore=pd.NamedAgg(column='distance_shore', aggfunc='min'),\n",
    "                        max_distance_shore=pd.NamedAgg(column='distance_shore', aggfunc='max'),\n",
    "                        mean_distance_shore=pd.NamedAgg(column='distance_shore', aggfunc='mean'),\n",
    "                        median_distance_shore=pd.NamedAgg(column='distance_shore', aggfunc='median'),\n",
    "                        std_distance_shore=pd.NamedAgg(column='distance_shore', aggfunc='std'),\n",
    "                        \n",
    "                        # direction\n",
    "                        min_direction_shore=pd.NamedAgg(column='direction', aggfunc='min'),\n",
    "                        max_direction_shore=pd.NamedAgg(column='direction', aggfunc='max'),\n",
    "                        mean_direction_shore=pd.NamedAgg(column='direction', aggfunc='mean'),\n",
    "                        median_direction_shore=pd.NamedAgg(column='direction', aggfunc='median'),\n",
    "                        std_direction_shore=pd.NamedAgg(column='direction', aggfunc='std'),\n",
    "    # Add more properties as needed\n",
    ").reset_index()\n",
    "\n",
    "# Display cluster properties\n",
    "print(cluster_properties)\n"
   ]
  },
  {
   "cell_type": "code",
   "execution_count": 64,
   "metadata": {},
   "outputs": [],
   "source": [
    "##> Add the new clustered column to the trajectories\n",
    "start_index = 0\n",
    "for traj in tc.trajectories:\n",
    "    stop_index = start_index + len(traj.df)\n",
    "    # print(len(traj.df))\n",
    "    # print(start_index, stop_index)\n",
    "    traj.df['cluster_kmeans'] = X.iloc[start_index:stop_index]['cluster_kmeans'].values\n",
    "    start_index = stop_index"
   ]
  },
  {
   "cell_type": "code",
   "execution_count": 65,
   "metadata": {},
   "outputs": [
    {
     "name": "stderr",
     "output_type": "stream",
     "text": [
      "WARNING:bokeh.core.validation.check:W-1005 (FIXED_SIZING_MODE): 'fixed' sizing mode requires width and height to be set: figure(id='p67880', ...)\n"
     ]
    }
   ],
   "source": [
    "# Create a HoloViews plot of the clusters\n",
    "tc_all_kmeans_cluster_plot = tc.to_line_gdf().hvplot(geo=True,\n",
    "                                                        tiles='OSM',\n",
    "                                                        title='Sailing Boats Features Cluster - KMeans',\n",
    "                                                        color='cluster_kmeans',\n",
    "                                                        # colorbar=True,\n",
    "                                                        cmap='hsv',\n",
    "                                                        line_width=2,\n",
    "                                                        alpha=0.6,\n",
    "                                                        frame_width=1200,\n",
    "                                                        frame_height=1200,\n",
    "                                                        legend=True)\n",
    "hvplot.save(tc_all_kmeans_cluster_plot, \n",
    "            'tc_sailing_kmeans_cluster_plot.html', \n",
    "            fmt='html')"
   ]
  }
 ],
 "metadata": {
  "kernelspec": {
   "display_name": "captnAIS",
   "language": "python",
   "name": "python3"
  },
  "language_info": {
   "codemirror_mode": {
    "name": "ipython",
    "version": 3
   },
   "file_extension": ".py",
   "mimetype": "text/x-python",
   "name": "python",
   "nbconvert_exporter": "python",
   "pygments_lexer": "ipython3",
   "version": "3.11.3"
  },
  "orig_nbformat": 4
 },
 "nbformat": 4,
 "nbformat_minor": 2
}
